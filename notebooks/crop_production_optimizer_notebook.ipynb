{
  "cells": [
    {
      "cell_type": "markdown",
      "id": "ed17b251",
      "metadata": {
        "id": "ed17b251"
      },
      "source": [
        "# Crop Production Optimizer Notebook\n"
      ]
    },
    {
      "cell_type": "markdown",
      "id": "6404fe76",
      "metadata": {
        "id": "6404fe76"
      },
      "source": [
        "### Steps to follow the process\n",
        "\n",
        "Importing necessary Libraries\n",
        "\n",
        "Creating S3 bucket\n",
        "\n",
        "Mapping train And Test Data in S3\n",
        "\n",
        "Mapping The path of the models in S3\n",
        "\n",
        "Training the xgboost model and deploy it.\n"
      ]
    },
    {
      "cell_type": "code",
      "execution_count": null,
      "id": "947387ff",
      "metadata": {
        "id": "947387ff"
      },
      "outputs": [],
      "source": [
        "## importing necessary libraries\n",
        "import sagemaker, boto3\n",
        "from sagemaker.session import s3_input, Session\n",
        "import os\n",
        "s3 = boto3.resource(\"s3\")"
      ]
    },
    {
      "cell_type": "code",
      "execution_count": null,
      "id": "5434982e",
      "metadata": {
        "id": "5434982e",
        "outputId": "8bd5b5e5-dd14-4d08-e38e-c87f6ba19f24"
      },
      "outputs": [
        {
          "name": "stdout",
          "output_type": "stream",
          "text": [
            "us-east-1\n"
          ]
        }
      ],
      "source": [
        "## name bucket\n",
        "bucket = \"any-bucket-name\"\n",
        "my_region = boto3.session.Session().region_name\n",
        "print(my_region)"
      ]
    },
    {
      "cell_type": "code",
      "execution_count": null,
      "id": "2ad368a3",
      "metadata": {
        "scrolled": true,
        "id": "2ad368a3",
        "outputId": "be1c2e9e-c18d-4f51-b62a-a6b8f1e74ef4"
      },
      "outputs": [
        {
          "name": "stdout",
          "output_type": "stream",
          "text": [
            "Bucket Created\n"
          ]
        }
      ],
      "source": [
        "## creating bucket\n",
        "s3 = boto3.resource('s3')\n",
        "try:\n",
        "    s3.create_bucket(Bucket = bucket)\n",
        "    print(\"Bucket Created\")\n",
        "except Exception as E:\n",
        "    print(\"error \", E)"
      ]
    },
    {
      "cell_type": "code",
      "execution_count": null,
      "id": "7b589caf",
      "metadata": {
        "id": "7b589caf",
        "outputId": "d5a5e20b-d263-4748-f11b-f375a7f57717"
      },
      "outputs": [
        {
          "name": "stdout",
          "output_type": "stream",
          "text": [
            "xgboost\n",
            "s3://crop-production-bucket/models/xgboost\n"
          ]
        }
      ],
      "source": [
        "## creating model output path\n",
        "model_name = \"xgboost\"\n",
        "model_output_path = f\"s3://{bucket}/models/{model_name}\"\n",
        "print(model_name)\n",
        "print(model_output_path)"
      ]
    },
    {
      "cell_type": "markdown",
      "id": "40374788",
      "metadata": {
        "id": "40374788"
      },
      "source": [
        "### Downloading the dataset"
      ]
    },
    {
      "cell_type": "code",
      "execution_count": null,
      "id": "7b0082d4",
      "metadata": {
        "id": "7b0082d4",
        "outputId": "5f459dac-379c-4ba6-acd8-307d19f2f873"
      },
      "outputs": [
        {
          "name": "stdout",
          "output_type": "stream",
          "text": [
            "Data Downloaded\n"
          ]
        }
      ],
      "source": [
        "import urllib , pandas as pd\n",
        "\n",
        "try:\n",
        "    url = \"https://github.com/g0urav-hustler/Crop-Production-Optimization/blob/master/data/agricultural_data.csv\"\n",
        "    urllib.request.urlretrieve(url, \"agricultural_data.csv\")\n",
        "    print(\"Data Downloaded\")\n",
        "except Exception as E:\n",
        "    print(\"error -\",E)"
      ]
    },
    {
      "cell_type": "code",
      "execution_count": null,
      "id": "eaf8bf13",
      "metadata": {
        "id": "eaf8bf13",
        "outputId": "e2f777ae-6db8-473d-cdb5-bcf9dda3cfbd"
      },
      "outputs": [
        {
          "name": "stdout",
          "output_type": "stream",
          "text": [
            "Success: Data loaded into dataframe.\n"
          ]
        }
      ],
      "source": [
        "import pandas as pd\n",
        "try:\n",
        "    model_data = pd.read_csv('./agricultural_data.csv')\n",
        "    print('Success: Data loaded into dataframe.')\n",
        "except Exception as e:\n",
        "    print('Data load error: ',e)"
      ]
    },
    {
      "cell_type": "code",
      "execution_count": null,
      "id": "97fb0467",
      "metadata": {
        "id": "97fb0467",
        "outputId": "de533ec2-c5d7-472a-d241-7cb05902a82e"
      },
      "outputs": [
        {
          "name": "stdout",
          "output_type": "stream",
          "text": [
            "['apple' 'banana' 'blackgram' 'chickpea' 'coconut' 'coffee' 'cotton'\n",
            " 'grapes' 'jute' 'kidneybeans' 'lentil' 'maize' 'mango' 'mothbeans'\n",
            " 'mungbean' 'muskmelon' 'orange' 'papaya' 'pigeonpeas' 'pomegranate'\n",
            " 'rice' 'watermelon']\n",
            "22\n"
          ]
        }
      ],
      "source": [
        "## changing text categories into numbers\n",
        "label_categories = model_data[\"Crops\"].unique()\n",
        "label_categories.sort()\n",
        "print(label_categories)\n",
        "print(len(label_categories))"
      ]
    },
    {
      "cell_type": "code",
      "execution_count": null,
      "id": "3256e269",
      "metadata": {
        "scrolled": true,
        "id": "3256e269",
        "outputId": "d5801300-292d-409c-98a6-a1d4edb4afac"
      },
      "outputs": [
        {
          "name": "stdout",
          "output_type": "stream",
          "text": [
            "{'apple': 0, 'banana': 1, 'blackgram': 2, 'chickpea': 3, 'coconut': 4, 'coffee': 5, 'cotton': 6, 'grapes': 7, 'jute': 8, 'kidneybeans': 9, 'lentil': 10, 'maize': 11, 'mango': 12, 'mothbeans': 13, 'mungbean': 14, 'muskmelon': 15, 'orange': 16, 'papaya': 17, 'pigeonpeas': 18, 'pomegranate': 19, 'rice': 20, 'watermelon': 21}\n"
          ]
        }
      ],
      "source": [
        "# making label dictionaries\n",
        "label_dict = {}\n",
        "for i in range(len(label_categories)):\n",
        "    label_dict.update({label_categories[i]: i})\n",
        "print(label_dict)"
      ]
    },
    {
      "cell_type": "code",
      "execution_count": null,
      "id": "822030e6",
      "metadata": {
        "id": "822030e6"
      },
      "outputs": [],
      "source": [
        "## making labels data for further use\n",
        "labels = pd.DataFrame(label_dict,index = [0])\n",
        "labels.head()\n",
        "labels.to_csv(\"labels.csv\", index = False)"
      ]
    },
    {
      "cell_type": "code",
      "execution_count": null,
      "id": "ee6163e7",
      "metadata": {
        "id": "ee6163e7"
      },
      "outputs": [],
      "source": [
        "## save labels to bucket for after use\n",
        "s3.Bucket(bucket).Object(f\"labels_data/labels.csv\").upload_file(\"labels.csv\")"
      ]
    },
    {
      "cell_type": "code",
      "execution_count": null,
      "id": "7ee35810",
      "metadata": {
        "id": "7ee35810",
        "outputId": "39de2b34-85c5-4617-f405-f5e31fac8bc2"
      },
      "outputs": [
        {
          "data": {
            "text/html": [
              "<div>\n",
              "<style scoped>\n",
              "    .dataframe tbody tr th:only-of-type {\n",
              "        vertical-align: middle;\n",
              "    }\n",
              "\n",
              "    .dataframe tbody tr th {\n",
              "        vertical-align: top;\n",
              "    }\n",
              "\n",
              "    .dataframe thead th {\n",
              "        text-align: right;\n",
              "    }\n",
              "</style>\n",
              "<table border=\"1\" class=\"dataframe\">\n",
              "  <thead>\n",
              "    <tr style=\"text-align: right;\">\n",
              "      <th></th>\n",
              "      <th>N</th>\n",
              "      <th>P</th>\n",
              "      <th>K</th>\n",
              "      <th>Temperature</th>\n",
              "      <th>Humidity</th>\n",
              "      <th>Ph</th>\n",
              "      <th>Rainfall</th>\n",
              "      <th>Crops</th>\n",
              "    </tr>\n",
              "  </thead>\n",
              "  <tbody>\n",
              "    <tr>\n",
              "      <th>0</th>\n",
              "      <td>90</td>\n",
              "      <td>42</td>\n",
              "      <td>43</td>\n",
              "      <td>20.879744</td>\n",
              "      <td>82.002744</td>\n",
              "      <td>6.502985</td>\n",
              "      <td>202.935536</td>\n",
              "      <td>20</td>\n",
              "    </tr>\n",
              "    <tr>\n",
              "      <th>1</th>\n",
              "      <td>85</td>\n",
              "      <td>58</td>\n",
              "      <td>41</td>\n",
              "      <td>21.770462</td>\n",
              "      <td>80.319644</td>\n",
              "      <td>7.038096</td>\n",
              "      <td>226.655537</td>\n",
              "      <td>20</td>\n",
              "    </tr>\n",
              "    <tr>\n",
              "      <th>2</th>\n",
              "      <td>60</td>\n",
              "      <td>55</td>\n",
              "      <td>44</td>\n",
              "      <td>23.004459</td>\n",
              "      <td>82.320763</td>\n",
              "      <td>7.840207</td>\n",
              "      <td>263.964248</td>\n",
              "      <td>20</td>\n",
              "    </tr>\n",
              "    <tr>\n",
              "      <th>3</th>\n",
              "      <td>74</td>\n",
              "      <td>35</td>\n",
              "      <td>40</td>\n",
              "      <td>26.491096</td>\n",
              "      <td>80.158363</td>\n",
              "      <td>6.980401</td>\n",
              "      <td>242.864034</td>\n",
              "      <td>20</td>\n",
              "    </tr>\n",
              "    <tr>\n",
              "      <th>4</th>\n",
              "      <td>78</td>\n",
              "      <td>42</td>\n",
              "      <td>42</td>\n",
              "      <td>20.130175</td>\n",
              "      <td>81.604873</td>\n",
              "      <td>7.628473</td>\n",
              "      <td>262.717340</td>\n",
              "      <td>20</td>\n",
              "    </tr>\n",
              "  </tbody>\n",
              "</table>\n",
              "</div>"
            ],
            "text/plain": [
              "    N   P   K  Temperature   Humidity        Ph    Rainfall  Crops\n",
              "0  90  42  43    20.879744  82.002744  6.502985  202.935536     20\n",
              "1  85  58  41    21.770462  80.319644  7.038096  226.655537     20\n",
              "2  60  55  44    23.004459  82.320763  7.840207  263.964248     20\n",
              "3  74  35  40    26.491096  80.158363  6.980401  242.864034     20\n",
              "4  78  42  42    20.130175  81.604873  7.628473  262.717340     20"
            ]
          },
          "execution_count": 47,
          "metadata": {},
          "output_type": "execute_result"
        }
      ],
      "source": [
        "## applying numberical data to target column\n",
        "model_data[\"Crops\"] = model_data[\"Crops\"].replace(label_dict)\n",
        "model_data.head()"
      ]
    },
    {
      "cell_type": "markdown",
      "source": [
        "## Mapping train And Test Data in S3"
      ],
      "metadata": {
        "id": "8mQvx89rUHwN"
      },
      "id": "8mQvx89rUHwN"
    },
    {
      "cell_type": "code",
      "execution_count": null,
      "id": "9d4adc26",
      "metadata": {
        "id": "9d4adc26"
      },
      "outputs": [],
      "source": [
        "## split model\n",
        "from sklearn.model_selection import train_test_split\n",
        "\n",
        "x_train ,x_test, y_train, y_test = train_test_split(model_data.drop(\"Crops\", axis = 1), model_data[\"Crops\"], \n",
        "                                                    test_size = 0.2, random_state = 0)"
      ]
    },
    {
      "cell_type": "code",
      "execution_count": null,
      "id": "775fdb46",
      "metadata": {
        "id": "775fdb46"
      },
      "outputs": [],
      "source": [
        "## storing train data to bucket\n",
        "pd.concat([y_train,x_train], axis = 1).to_csv(\"train.csv\",index = False, header = False)\n",
        "s3.Bucket(bucket).Object(f\"train_data/train.csv\").upload_file(\"train.csv\")"
      ]
    },
    {
      "cell_type": "code",
      "execution_count": null,
      "id": "f53c8060",
      "metadata": {
        "id": "f53c8060"
      },
      "outputs": [],
      "source": [
        "## storing test data to bucket\n",
        "pd.concat([y_test,x_test], axis = 1).to_csv(\"test.csv\", index = False, header = False)\n",
        "s3.Bucket(bucket).Object(f\"test_data/test.csv\").upload_file(\"test.csv\")"
      ]
    },
    {
      "cell_type": "code",
      "execution_count": null,
      "id": "e1f497d9",
      "metadata": {
        "id": "e1f497d9"
      },
      "outputs": [],
      "source": [
        "## importing train and test data\n",
        "s3_input_train = sagemaker.TrainingInput(s3_data=f's3://{bucket}/train_data', content_type='csv')\n",
        "s3_input_test = sagemaker.TrainingInput(s3_data= f's3://{bucket}/test_data', content_type='csv')"
      ]
    },
    {
      "cell_type": "markdown",
      "id": "137c635e",
      "metadata": {
        "id": "137c635e"
      },
      "source": [
        "## Building Model"
      ]
    },
    {
      "cell_type": "code",
      "execution_count": null,
      "id": "85832ec0",
      "metadata": {
        "scrolled": true,
        "id": "85832ec0",
        "outputId": "d7411748-53f0-41e8-837f-dec946b35c0b"
      },
      "outputs": [
        {
          "name": "stderr",
          "output_type": "stream",
          "text": [
            "INFO:sagemaker.image_uris:Ignoring unnecessary instance type: None.\n"
          ]
        }
      ],
      "source": [
        "# this line automatically looks for the XGBoost image URI and builds an XGBoost container.\n",
        "# specify the repo_version depending on your preference.\n",
        "from sagemaker.amazon.amazon_estimator import get_image_uri \n",
        "\n",
        "container=sagemaker.image_uris.retrieve(\"xgboost\", my_region, \"1.2-1\")\n"
      ]
    },
    {
      "cell_type": "code",
      "execution_count": null,
      "id": "2eb04130",
      "metadata": {
        "id": "2eb04130"
      },
      "outputs": [],
      "source": [
        "# initialize hyperparameters\n",
        "\n",
        "hyperparameters = {\n",
        "        \"max_depth\":\"5\",\n",
        "        \"eta\":\"0.2\",\n",
        "        \"gamma\":\"4\",\n",
        "        \"min_child_weight\":\"6\",\n",
        "        \"subsample\":\"0.7\",\n",
        "        \"objective\":\"multi:softmax\",\n",
        "        \"num_class\": int(len(label_categories)),\n",
        "        \"num_round\": 50\n",
        "        }\n",
        "     "
      ]
    },
    {
      "cell_type": "code",
      "execution_count": null,
      "id": "132f0d84",
      "metadata": {
        "id": "132f0d84",
        "outputId": "c045b71f-ab99-4c84-dae3-e0b4c6b19b07"
      },
      "outputs": [
        {
          "name": "stderr",
          "output_type": "stream",
          "text": [
            "WARNING:sagemaker.deprecations:train_instance_count has been renamed in sagemaker>=2.\n",
            "See: https://sagemaker.readthedocs.io/en/stable/v2.html for details.\n",
            "WARNING:sagemaker.deprecations:train_instance_type has been renamed in sagemaker>=2.\n",
            "See: https://sagemaker.readthedocs.io/en/stable/v2.html for details.\n",
            "WARNING:sagemaker.deprecations:train_max_run has been renamed in sagemaker>=2.\n",
            "See: https://sagemaker.readthedocs.io/en/stable/v2.html for details.\n",
            "WARNING:sagemaker.deprecations:train_use_spot_instances has been renamed in sagemaker>=2.\n",
            "See: https://sagemaker.readthedocs.io/en/stable/v2.html for details.\n",
            "WARNING:sagemaker.deprecations:train_max_wait has been renamed in sagemaker>=2.\n",
            "See: https://sagemaker.readthedocs.io/en/stable/v2.html for details.\n",
            "WARNING:sagemaker.deprecations:train_volume_size has been renamed in sagemaker>=2.\n",
            "See: https://sagemaker.readthedocs.io/en/stable/v2.html for details.\n"
          ]
        }
      ],
      "source": [
        "estimator = sagemaker.estimator.Estimator(image_uri=container, \n",
        "                                          hyperparameters=hyperparameters,\n",
        "                                          role=sagemaker.get_execution_role(),\n",
        "                                          train_instance_count=1, \n",
        "                                          train_instance_type='ml.m5.xlarge', \n",
        "                                          train_volume_size=5, # 5 GB \n",
        "                                          output_path=model_output_path,\n",
        "                                          train_use_spot_instances=True,\n",
        "                                          train_max_run=300,\n",
        "                                          train_max_wait=600)"
      ]
    },
    {
      "cell_type": "code",
      "execution_count": null,
      "id": "4452cda1",
      "metadata": {
        "id": "4452cda1",
        "outputId": "fb5a401c-e575-41f3-c037-097147b68372"
      },
      "outputs": [
        {
          "name": "stderr",
          "output_type": "stream",
          "text": [
            "INFO:sagemaker:Creating training-job with name: sagemaker-xgboost-2023-02-17-10-23-21-332\n"
          ]
        },
        {
          "name": "stdout",
          "output_type": "stream",
          "text": [
            "2023-02-17 10:23:21 Starting - Starting the training job...\n",
            "2023-02-17 10:23:36 Starting - Preparing the instances for training......\n",
            "2023-02-17 10:24:24 Downloading - Downloading input data...\n",
            "2023-02-17 10:25:20 Training - Training image download completed. Training in progress...\u001b[34m[2023-02-17 10:25:30.216 ip-10-0-244-184.ec2.internal:7 INFO utils.py:27] RULE_JOB_STOP_SIGNAL_FILENAME: None\u001b[0m\n",
            "\u001b[34mINFO:sagemaker-containers:Imported framework sagemaker_xgboost_container.training\u001b[0m\n",
            "\u001b[34mINFO:sagemaker-containers:Failed to parse hyperparameter objective value multi:softmax to Json.\u001b[0m\n",
            "\u001b[34mReturning the value itself\u001b[0m\n",
            "\u001b[34mINFO:sagemaker-containers:No GPUs detected (normal if no gpus installed)\u001b[0m\n",
            "\u001b[34mINFO:sagemaker_xgboost_container.training:Running XGBoost Sagemaker in algorithm mode\u001b[0m\n",
            "\u001b[34mINFO:root:Determined delimiter of CSV input is ','\u001b[0m\n",
            "\u001b[34mINFO:root:Determined delimiter of CSV input is ','\u001b[0m\n",
            "\u001b[34mINFO:root:Determined delimiter of CSV input is ','\u001b[0m\n",
            "\u001b[34mINFO:root:Determined delimiter of CSV input is ','\u001b[0m\n",
            "\u001b[34mINFO:root:Single node training.\u001b[0m\n",
            "\u001b[34m[2023-02-17 10:25:30.300 ip-10-0-244-184.ec2.internal:7 INFO json_config.py:91] Creating hook from json_config at /opt/ml/input/config/debughookconfig.json.\u001b[0m\n",
            "\u001b[34m[2023-02-17 10:25:30.300 ip-10-0-244-184.ec2.internal:7 INFO hook.py:199] tensorboard_dir has not been set for the hook. SMDebug will not be exporting tensorboard summaries.\u001b[0m\n",
            "\u001b[34m[2023-02-17 10:25:30.300 ip-10-0-244-184.ec2.internal:7 INFO profiler_config_parser.py:102] User has disabled profiler.\u001b[0m\n",
            "\u001b[34m[2023-02-17 10:25:30.301 ip-10-0-244-184.ec2.internal:7 INFO hook.py:253] Saving to /opt/ml/output/tensors\u001b[0m\n",
            "\u001b[34m[2023-02-17 10:25:30.301 ip-10-0-244-184.ec2.internal:7 INFO state_store.py:77] The checkpoint config file /opt/ml/input/config/checkpointconfig.json does not exist.\u001b[0m\n",
            "\u001b[34mINFO:root:Debug hook created from config\u001b[0m\n",
            "\u001b[34mINFO:root:Train matrix has 1760 rows and 7 columns\u001b[0m\n",
            "\u001b[34mINFO:root:Validation matrix has 440 rows\u001b[0m\n",
            "\u001b[34m[0]#011train-merror:0.23750#011validation-merror:0.23182\u001b[0m\n",
            "\u001b[34m[2023-02-17 10:25:30.313 ip-10-0-244-184.ec2.internal:7 INFO hook.py:413] Monitoring the collections: metrics\u001b[0m\n",
            "\u001b[34m[2023-02-17 10:25:30.315 ip-10-0-244-184.ec2.internal:7 INFO hook.py:476] Hook is writing from the hook with pid: 7\u001b[0m\n",
            "\u001b[34m[1]#011train-merror:0.05171#011validation-merror:0.05909\u001b[0m\n",
            "\u001b[34m[2]#011train-merror:0.02954#011validation-merror:0.05000\u001b[0m\n",
            "\u001b[34m[3]#011train-merror:0.02046#011validation-merror:0.03864\u001b[0m\n",
            "\u001b[34m[4]#011train-merror:0.01705#011validation-merror:0.01818\u001b[0m\n",
            "\u001b[34m[5]#011train-merror:0.01648#011validation-merror:0.01591\u001b[0m\n",
            "\u001b[34m[6]#011train-merror:0.01591#011validation-merror:0.01591\u001b[0m\n",
            "\u001b[34m[7]#011train-merror:0.01534#011validation-merror:0.01591\u001b[0m\n",
            "\u001b[34m[8]#011train-merror:0.01193#011validation-merror:0.01591\u001b[0m\n",
            "\u001b[34m[9]#011train-merror:0.01080#011validation-merror:0.01591\u001b[0m\n",
            "\u001b[34m[10]#011train-merror:0.01023#011validation-merror:0.01591\u001b[0m\n",
            "\u001b[34m[11]#011train-merror:0.01023#011validation-merror:0.01591\u001b[0m\n",
            "\u001b[34m[12]#011train-merror:0.01023#011validation-merror:0.01591\u001b[0m\n",
            "\u001b[34m[13]#011train-merror:0.00966#011validation-merror:0.01591\u001b[0m\n",
            "\u001b[34m[14]#011train-merror:0.00966#011validation-merror:0.01364\u001b[0m\n",
            "\u001b[34m[15]#011train-merror:0.00852#011validation-merror:0.01591\u001b[0m\n",
            "\u001b[34m[16]#011train-merror:0.00852#011validation-merror:0.01591\u001b[0m\n",
            "\u001b[34m[17]#011train-merror:0.00796#011validation-merror:0.01591\u001b[0m\n",
            "\u001b[34m[18]#011train-merror:0.00796#011validation-merror:0.01591\u001b[0m\n",
            "\u001b[34m[19]#011train-merror:0.00796#011validation-merror:0.01591\u001b[0m\n",
            "\u001b[34m[20]#011train-merror:0.00796#011validation-merror:0.01591\u001b[0m\n",
            "\u001b[34m[21]#011train-merror:0.00796#011validation-merror:0.01591\u001b[0m\n",
            "\u001b[34m[22]#011train-merror:0.00796#011validation-merror:0.01591\u001b[0m\n",
            "\u001b[34m[23]#011train-merror:0.00796#011validation-merror:0.01591\u001b[0m\n",
            "\u001b[34m[24]#011train-merror:0.00739#011validation-merror:0.01591\u001b[0m\n",
            "\u001b[34m[25]#011train-merror:0.00739#011validation-merror:0.01591\u001b[0m\n",
            "\u001b[34m[26]#011train-merror:0.00739#011validation-merror:0.01591\u001b[0m\n",
            "\u001b[34m[27]#011train-merror:0.00739#011validation-merror:0.01591\u001b[0m\n",
            "\u001b[34m[28]#011train-merror:0.00739#011validation-merror:0.01591\u001b[0m\n",
            "\u001b[34m[29]#011train-merror:0.00739#011validation-merror:0.01591\u001b[0m\n",
            "\u001b[34m[30]#011train-merror:0.00739#011validation-merror:0.01591\u001b[0m\n",
            "\u001b[34m[31]#011train-merror:0.00739#011validation-merror:0.01591\u001b[0m\n",
            "\u001b[34m[32]#011train-merror:0.00739#011validation-merror:0.01591\u001b[0m\n",
            "\u001b[34m[33]#011train-merror:0.00739#011validation-merror:0.01591\u001b[0m\n",
            "\u001b[34m[34]#011train-merror:0.00739#011validation-merror:0.01591\u001b[0m\n",
            "\u001b[34m[35]#011train-merror:0.00739#011validation-merror:0.01591\u001b[0m\n",
            "\u001b[34m[36]#011train-merror:0.00739#011validation-merror:0.01591\u001b[0m\n",
            "\u001b[34m[37]#011train-merror:0.00739#011validation-merror:0.01591\u001b[0m\n",
            "\u001b[34m[38]#011train-merror:0.00739#011validation-merror:0.01364\u001b[0m\n",
            "\u001b[34m[39]#011train-merror:0.00739#011validation-merror:0.01364\u001b[0m\n",
            "\u001b[34m[40]#011train-merror:0.00739#011validation-merror:0.01591\u001b[0m\n",
            "\u001b[34m[41]#011train-merror:0.00739#011validation-merror:0.01364\u001b[0m\n",
            "\u001b[34m[42]#011train-merror:0.00739#011validation-merror:0.01364\u001b[0m\n",
            "\u001b[34m[43]#011train-merror:0.00739#011validation-merror:0.01364\u001b[0m\n",
            "\u001b[34m[44]#011train-merror:0.00739#011validation-merror:0.01364\u001b[0m\n",
            "\u001b[34m[45]#011train-merror:0.00739#011validation-merror:0.01364\u001b[0m\n",
            "\u001b[34m[46]#011train-merror:0.00739#011validation-merror:0.01364\u001b[0m\n",
            "\u001b[34m[47]#011train-merror:0.00739#011validation-merror:0.01364\u001b[0m\n",
            "\u001b[34m[48]#011train-merror:0.00739#011validation-merror:0.01364\u001b[0m\n",
            "\u001b[34m[49]#011train-merror:0.00739#011validation-merror:0.01364\u001b[0m\n",
            "\n",
            "2023-02-17 10:25:47 Uploading - Uploading generated training model\n",
            "2023-02-17 10:25:47 Completed - Training job completed\n",
            "Training seconds: 83\n",
            "Billable seconds: 29\n",
            "Managed Spot Training savings: 65.1%\n"
          ]
        }
      ],
      "source": [
        "## fitting the train and test set\n",
        "estimator.fit({'train': s3_input_train,'validation': s3_input_test})"
      ]
    },
    {
      "cell_type": "markdown",
      "source": [
        "## Deploying the model"
      ],
      "metadata": {
        "id": "PTM2WbrEUO8V"
      },
      "id": "PTM2WbrEUO8V"
    },
    {
      "cell_type": "code",
      "execution_count": null,
      "id": "912026a8",
      "metadata": {
        "id": "912026a8",
        "outputId": "eea584b0-cba7-4689-be19-fcd054b2c565"
      },
      "outputs": [
        {
          "name": "stderr",
          "output_type": "stream",
          "text": [
            "INFO:sagemaker:Creating model with name: sagemaker-xgboost-2023-02-17-10-27-01-847\n",
            "INFO:sagemaker:Creating endpoint-config with name sagemaker-xgboost-2023-02-17-10-27-01-847\n",
            "INFO:sagemaker:Creating endpoint with name sagemaker-xgboost-2023-02-17-10-27-01-847\n"
          ]
        },
        {
          "name": "stdout",
          "output_type": "stream",
          "text": [
            "--------!"
          ]
        }
      ],
      "source": [
        "# deploying the model\n",
        "xgb_predictor = estimator.deploy(initial_instance_count=1,instance_type='ml.m4.xlarge')"
      ]
    },
    {
      "cell_type": "code",
      "execution_count": null,
      "id": "50ec43fb",
      "metadata": {
        "id": "50ec43fb"
      },
      "outputs": [],
      "source": [
        "## predicting the test data using serializer\n",
        "from sagemaker.serializers import CSVSerializer\n",
        "test_data_array = x_test.values #load the data into an array\n",
        "xgb_predictor.CONTENT_TYPE = 'text/csv' # set the data type for an inference\n",
        "xgb_predictor.serializer = CSVSerializer()# set the serializer type\n",
        "predictions = xgb_predictor.predict(test_data_array).decode('utf-8')\n",
        "predictions_array = np.fromstring(predictions[1:], sep=',') # and turn the prediction into an array\n",
        "print(predictions_array.shape)"
      ]
    },
    {
      "cell_type": "code",
      "execution_count": null,
      "id": "afbf647e",
      "metadata": {
        "scrolled": true,
        "id": "afbf647e",
        "outputId": "c48f3c65-35c5-42db-e4c2-7d438a227bf0"
      },
      "outputs": [
        {
          "name": "stderr",
          "output_type": "stream",
          "text": [
            "WARNING:sagemaker.deprecations:The endpoint attribute has been renamed in sagemaker>=2.\n",
            "See: https://sagemaker.readthedocs.io/en/stable/v2.html for details.\n",
            "INFO:sagemaker:Deleting endpoint with name: sagemaker-xgboost-2023-02-17-10-27-01-847\n"
          ]
        }
      ],
      "source": [
        "## deleting the endpoint so that service cost is stopped\n",
        "sagemaker.Session().delete_endpoint(xgb_predictor.endpoint)"
      ]
    },
    {
      "cell_type": "markdown",
      "source": [
        "## Testing the model"
      ],
      "metadata": {
        "id": "dXXhYT6aUmUX"
      },
      "id": "dXXhYT6aUmUX"
    },
    {
      "cell_type": "code",
      "execution_count": null,
      "id": "fdcdb5dd",
      "metadata": {
        "id": "fdcdb5dd",
        "outputId": "ca94d6b7-cdca-4c23-e704-6663397dd303"
      },
      "outputs": [
        {
          "name": "stdout",
          "output_type": "stream",
          "text": [
            "              precision    recall  f1-score   support\n",
            "\n",
            "           0       1.00      1.00      1.00        18\n",
            "           1       0.95      1.00      0.97        18\n",
            "           2       1.00      1.00      1.00        22\n",
            "           3       1.00      1.00      1.00        23\n",
            "           4       1.00      1.00      1.00        15\n",
            "           5       0.94      1.00      0.97        17\n",
            "           6       1.00      1.00      1.00        16\n",
            "           7       1.00      1.00      1.00        18\n",
            "           8       0.86      0.90      0.88        21\n",
            "           9       1.00      1.00      1.00        20\n",
            "          10       1.00      0.94      0.97        17\n",
            "          11       0.95      1.00      0.97        18\n",
            "          12       1.00      1.00      1.00        21\n",
            "          13       0.96      1.00      0.98        25\n",
            "          14       1.00      1.00      1.00        17\n",
            "          15       1.00      1.00      1.00        23\n",
            "          16       1.00      1.00      1.00        23\n",
            "          17       1.00      0.95      0.98        21\n",
            "          18       1.00      1.00      1.00        22\n",
            "          19       1.00      1.00      1.00        23\n",
            "          20       1.00      0.92      0.96        25\n",
            "          21       1.00      0.94      0.97        17\n",
            "\n",
            "    accuracy                           0.98       440\n",
            "   macro avg       0.98      0.98      0.98       440\n",
            "weighted avg       0.98      0.98      0.98       440\n",
            "\n"
          ]
        }
      ],
      "source": [
        "from sklearn.metrics import confusion_matrix, classification_report\n",
        "print(classification_report(y_test,predictions_array))"
      ]
    },
    {
      "cell_type": "markdown",
      "id": "c1697bb1",
      "metadata": {
        "id": "c1697bb1"
      },
      "source": [
        "### Xgboost model gives accuracy of 98%."
      ]
    },
    {
      "cell_type": "markdown",
      "id": "f75a0912",
      "metadata": {
        "id": "f75a0912"
      },
      "source": [
        "## The End"
      ]
    }
  ],
  "metadata": {
    "kernelspec": {
      "display_name": "conda_python3",
      "language": "python",
      "name": "conda_python3"
    },
    "language_info": {
      "codemirror_mode": {
        "name": "ipython",
        "version": 3
      },
      "file_extension": ".py",
      "mimetype": "text/x-python",
      "name": "python",
      "nbconvert_exporter": "python",
      "pygments_lexer": "ipython3",
      "version": "3.10.6"
    },
    "colab": {
      "provenance": []
    }
  },
  "nbformat": 4,
  "nbformat_minor": 5
}